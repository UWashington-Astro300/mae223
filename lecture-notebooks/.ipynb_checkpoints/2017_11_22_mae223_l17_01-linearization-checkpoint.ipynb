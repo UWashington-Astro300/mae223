{
 "cells": [
  {
   "cell_type": "code",
   "execution_count": 1,
   "metadata": {},
   "outputs": [],
   "source": [
    "import sympy as sm\n",
    "import sympy.physics.mechanics as me\n",
    "me.init_vprinting(use_latex=True, pretty_print=False)"
   ]
  },
  {
   "cell_type": "markdown",
   "metadata": {},
   "source": [
    "# Generalized coordinates"
   ]
  },
  {
   "cell_type": "code",
   "execution_count": 2,
   "metadata": {},
   "outputs": [],
   "source": [
    "q1, q2, q3 = me.dynamicsymbols('q1, q2, q3')"
   ]
  },
  {
   "cell_type": "markdown",
   "metadata": {},
   "source": [
    "# Generalized speeds"
   ]
  },
  {
   "cell_type": "code",
   "execution_count": 3,
   "metadata": {},
   "outputs": [],
   "source": [
    "u1, u2, u3 = me.dynamicsymbols('u1, u2, u3')"
   ]
  },
  {
   "cell_type": "markdown",
   "metadata": {},
   "source": [
    "# Specified Inputs"
   ]
  },
  {
   "cell_type": "code",
   "execution_count": 4,
   "metadata": {},
   "outputs": [],
   "source": [
    "F, T = me.dynamicsymbols('F, T')"
   ]
  },
  {
   "cell_type": "markdown",
   "metadata": {},
   "source": [
    "# Constants"
   ]
  },
  {
   "cell_type": "code",
   "execution_count": 5,
   "metadata": {},
   "outputs": [
    {
     "data": {
      "image/png": "[encoded data removed]",
      "text/latex": [
       "$$I_{B_bo}$$"
      ],
      "text/plain": [
       "I_{B_bo}"
      ]
     },
     "execution_count": 5,
     "metadata": {},
     "output_type": "execute_result"
    }
   ],
   "source": [
    "k, c, ma, mb, mc, IB_bo, l, kT, g = sm.symbols('k, c, m_a, m_b, m_c, I_{B_bo}, l, k_T, g')\n",
    "IB_bo"
   ]
  },
  {
   "cell_type": "markdown",
   "metadata": {},
   "source": [
    "# Reference Frames"
   ]
  },
  {
   "cell_type": "code",
   "execution_count": 6,
   "metadata": {},
   "outputs": [],
   "source": [
    "N = me.ReferenceFrame('N')"
   ]
  },
  {
   "cell_type": "code",
   "execution_count": 7,
   "metadata": {},
   "outputs": [],
   "source": [
    "B = N.orientnew('B', 'Axis', (q2, N.z))"
   ]
  },
  {
   "cell_type": "code",
   "execution_count": 8,
   "metadata": {},
   "outputs": [],
   "source": [
    "C = B.orientnew('C', 'Axis', (q3, N.z))"
   ]
  },
  {
   "cell_type": "markdown",
   "metadata": {},
   "source": [
    "# Kinematic Differential Equations\n",
    "\n",
    "$$\n",
    "u_i = \\dot{q}_i \\\\\n",
    "0 = u_i - \\dot{q}_i\n",
    "$$\n"
   ]
  },
  {
   "cell_type": "code",
   "execution_count": 9,
   "metadata": {},
   "outputs": [
    {
     "data": {
      "image/png": "[encoded data removed]",
      "text/latex": [
       "$$\\left [ u_{1} - \\dot{q}_{1}, \\quad u_{2} - \\dot{q}_{2}, \\quad u_{3} - \\dot{q}_{3}\\right ]$$"
      ],
      "text/plain": [
       "[u1 - q1', u2 - q2', u3 - q3']"
      ]
     },
     "execution_count": 9,
     "metadata": {},
     "output_type": "execute_result"
    }
   ],
   "source": [
    "kdes = [u1 - q1.diff(),\n",
    "        u2 - q2.diff(),\n",
    "        u3 - q3.diff()]\n",
    "kdes"
   ]
  },
  {
   "cell_type": "markdown",
   "metadata": {},
   "source": [
    "# Angular Velocities"
   ]
  },
  {
   "cell_type": "code",
   "execution_count": 10,
   "metadata": {},
   "outputs": [],
   "source": [
    "B.set_ang_vel(N, u2 * N.z)"
   ]
  },
  {
   "cell_type": "code",
   "execution_count": 11,
   "metadata": {},
   "outputs": [],
   "source": [
    "C.set_ang_vel(B, u3 * N.z)"
   ]
  },
  {
   "cell_type": "markdown",
   "metadata": {},
   "source": [
    "# Points"
   ]
  },
  {
   "cell_type": "code",
   "execution_count": 12,
   "metadata": {},
   "outputs": [],
   "source": [
    "O = me.Point('O')"
   ]
  },
  {
   "cell_type": "code",
   "execution_count": 13,
   "metadata": {},
   "outputs": [],
   "source": [
    "Pab = O.locatenew('P_{ab}', q1 * N.x)"
   ]
  },
  {
   "cell_type": "code",
   "execution_count": 14,
   "metadata": {},
   "outputs": [],
   "source": [
    "Bo = Pab.locatenew('B_o', - 2 * l / 3 * B.y)"
   ]
  },
  {
   "cell_type": "code",
   "execution_count": 15,
   "metadata": {},
   "outputs": [],
   "source": [
    "Pbc = Pab.locatenew('P_{bc}', -l * B.y)"
   ]
  },
  {
   "cell_type": "code",
   "execution_count": 16,
   "metadata": {},
   "outputs": [],
   "source": [
    "Pc = Pbc.locatenew('P_c', -l * C.y)"
   ]
  },
  {
   "cell_type": "code",
   "execution_count": 17,
   "metadata": {},
   "outputs": [
    {
     "data": {
      "image/png": "[encoded data removed]",
      "text/latex": [
       "$$-  l\\mathbf{\\hat{b}_y} + q_{1}\\mathbf{\\hat{n}_x} -  l\\mathbf{\\hat{c}_y}$$"
      ],
      "text/plain": [
       "q1*N.x - l*B.y - l*C.y"
      ]
     },
     "execution_count": 17,
     "metadata": {},
     "output_type": "execute_result"
    }
   ],
   "source": [
    "Pc.pos_from(O)"
   ]
  },
  {
   "cell_type": "markdown",
   "metadata": {},
   "source": [
    "# Linear Velocities"
   ]
  },
  {
   "cell_type": "code",
   "execution_count": 18,
   "metadata": {},
   "outputs": [],
   "source": [
    "Pab.set_vel(N, u1 * N.x)"
   ]
  },
  {
   "cell_type": "code",
   "execution_count": 19,
   "metadata": {},
   "outputs": [
    {
     "data": {
      "image/png": "[encoded data removed]",
      "text/latex": [
       "$$u_{1}\\mathbf{\\hat{n}_x} + \\frac{2 l}{3} u_{2}\\mathbf{\\hat{b}_x}$$"
      ],
      "text/plain": [
       "u1*N.x + 2*l*u2/3*B.x"
      ]
     },
     "execution_count": 19,
     "metadata": {},
     "output_type": "execute_result"
    }
   ],
   "source": [
    "Bo.v2pt_theory(Pab, N, B)"
   ]
  },
  {
   "cell_type": "code",
   "execution_count": 20,
   "metadata": {},
   "outputs": [
    {
     "data": {
      "image/png": "[encoded data removed]",
      "text/latex": [
       "$$u_{1}\\mathbf{\\hat{n}_x} + l u_{2}\\mathbf{\\hat{b}_x}$$"
      ],
      "text/plain": [
       "u1*N.x + l*u2*B.x"
      ]
     },
     "execution_count": 20,
     "metadata": {},
     "output_type": "execute_result"
    }
   ],
   "source": [
    "Pbc.v2pt_theory(Pab, N, B)"
   ]
  },
  {
   "cell_type": "code",
   "execution_count": 21,
   "metadata": {},
   "outputs": [
    {
     "data": {
      "image/png": "[encoded data removed]",
      "text/latex": [
       "$$u_{1}\\mathbf{\\hat{n}_x} + l u_{2}\\mathbf{\\hat{b}_x} + l \\left(u_{2} + u_{3}\\right)\\mathbf{\\hat{c}_x}$$"
      ],
      "text/plain": [
       "u1*N.x + l*u2*B.x + l*(u2 + u3)*C.x"
      ]
     },
     "execution_count": 21,
     "metadata": {},
     "output_type": "execute_result"
    }
   ],
   "source": [
    "Pc.v2pt_theory(Pbc, N, C)"
   ]
  },
  {
   "cell_type": "markdown",
   "metadata": {},
   "source": [
    "# Partial Velocities"
   ]
  },
  {
   "cell_type": "code",
   "execution_count": 22,
   "metadata": {},
   "outputs": [
    {
     "data": {
      "image/png": "[encoded data removed]",
      "text/latex": [
       "$$\\mathbf{\\hat{n}_x}$$"
      ],
      "text/plain": [
       "N.x"
      ]
     },
     "execution_count": 22,
     "metadata": {},
     "output_type": "execute_result"
    }
   ],
   "source": [
    "Pab.vel(N).diff(u1, N)"
   ]
  },
  {
   "cell_type": "code",
   "execution_count": 23,
   "metadata": {},
   "outputs": [
    {
     "data": {
      "image/png": "[encoded data removed]",
      "text/latex": [
       "$$\\mathbf{\\hat{n}_x}$$"
      ],
      "text/plain": [
       "N.x"
      ]
     },
     "execution_count": 23,
     "metadata": {},
     "output_type": "execute_result"
    }
   ],
   "source": [
    "Pab.partial_velocity(N, u1)"
   ]
  },
  {
   "cell_type": "code",
   "execution_count": 24,
   "metadata": {},
   "outputs": [
    {
     "data": {
      "image/png": "[encoded data removed]",
      "text/latex": [
       "$$\\left ( \\mathbf{\\hat{n}_x}, \\quad 0, \\quad 0\\right )$$"
      ],
      "text/plain": [
       "(N.x, 0, 0)"
      ]
     },
     "execution_count": 24,
     "metadata": {},
     "output_type": "execute_result"
    }
   ],
   "source": [
    "Pab.partial_velocity(N, u1, u2, u3)"
   ]
  },
  {
   "cell_type": "code",
   "execution_count": 25,
   "metadata": {},
   "outputs": [
    {
     "data": {
      "image/png": "[encoded data removed]",
      "text/latex": [
       "$$\\left ( \\mathbf{\\hat{n}_x}, \\quad \\frac{2 l}{3}\\mathbf{\\hat{b}_x}, \\quad 0\\right )$$"
      ],
      "text/plain": [
       "(N.x, 2*l/3*B.x, 0)"
      ]
     },
     "execution_count": 25,
     "metadata": {},
     "output_type": "execute_result"
    }
   ],
   "source": [
    "Bo.partial_velocity(N, u1, u2, u3)"
   ]
  },
  {
   "cell_type": "code",
   "execution_count": 26,
   "metadata": {},
   "outputs": [
    {
     "data": {
      "image/png": "[encoded data removed]",
      "text/latex": [
       "$$\\left ( \\mathbf{\\hat{n}_x}, \\quad l\\mathbf{\\hat{b}_x} + l\\mathbf{\\hat{c}_x}, \\quad l\\mathbf{\\hat{c}_x}\\right )$$"
      ],
      "text/plain": [
       "(N.x, l*B.x + l*C.x, l*C.x)"
      ]
     },
     "execution_count": 26,
     "metadata": {},
     "output_type": "execute_result"
    }
   ],
   "source": [
    "Pc.partial_velocity(N, u1, u2, u3)"
   ]
  },
  {
   "cell_type": "code",
   "execution_count": 27,
   "metadata": {},
   "outputs": [
    {
     "data": {
      "image/png": "[encoded data removed]",
      "text/latex": [
       "$$\\left ( 0, \\quad \\mathbf{\\hat{n}_z}, \\quad 0\\right )$$"
      ],
      "text/plain": [
       "(0, N.z, 0)"
      ]
     },
     "execution_count": 27,
     "metadata": {},
     "output_type": "execute_result"
    }
   ],
   "source": [
    "B.partial_velocity(N, u1, u2, u3)"
   ]
  },
  {
   "cell_type": "code",
   "execution_count": 28,
   "metadata": {},
   "outputs": [
    {
     "data": {
      "image/png": "[encoded data removed]",
      "text/latex": [
       "$$\\left [ 0, \\quad \\mathbf{\\hat{n}_z}, \\quad 0\\right ]$$"
      ],
      "text/plain": [
       "[0, N.z, 0]"
      ]
     },
     "execution_count": 28,
     "metadata": {},
     "output_type": "execute_result"
    }
   ],
   "source": [
    "[B.ang_vel_in(N).diff(ur, N) for ur in [u1, u2, u3]]"
   ]
  },
  {
   "cell_type": "markdown",
   "metadata": {},
   "source": [
    "# Angular Accelerations"
   ]
  },
  {
   "cell_type": "code",
   "execution_count": 29,
   "metadata": {},
   "outputs": [
    {
     "data": {
      "image/png": "[encoded data removed]",
      "text/latex": [
       "$$\\dot{u}_{2}\\mathbf{\\hat{n}_z}$$"
      ],
      "text/plain": [
       "u2'*N.z"
      ]
     },
     "execution_count": 29,
     "metadata": {},
     "output_type": "execute_result"
    }
   ],
   "source": [
    "alpha_B_N = B.ang_acc_in(N)\n",
    "alpha_B_N"
   ]
  },
  {
   "cell_type": "code",
   "execution_count": 30,
   "metadata": {},
   "outputs": [
    {
     "data": {
      "image/png": "[encoded data removed]",
      "text/latex": [
       "$$\\dot{u}_{1}\\mathbf{\\hat{n}_x}$$"
      ],
      "text/plain": [
       "u1'*N.x"
      ]
     },
     "execution_count": 30,
     "metadata": {},
     "output_type": "execute_result"
    }
   ],
   "source": [
    "a_Pab_N = Pab.acc(N)\n",
    "a_Pab_N"
   ]
  },
  {
   "cell_type": "code",
   "execution_count": 31,
   "metadata": {},
   "outputs": [
    {
     "data": {
      "image/png": "[encoded data removed]",
      "text/latex": [
       "$$\\dot{u}_{1}\\mathbf{\\hat{n}_x} + \\frac{2 l}{3} \\dot{u}_{2}\\mathbf{\\hat{b}_x} + \\frac{2 l}{3} u^{2}_{2}\\mathbf{\\hat{b}_y}$$"
      ],
      "text/plain": [
       "u1'*N.x + 2*l*u2'/3*B.x + 2*l*u2**2/3*B.y"
      ]
     },
     "execution_count": 31,
     "metadata": {},
     "output_type": "execute_result"
    }
   ],
   "source": [
    "a_Bo_N = Bo.acc(N)\n",
    "a_Bo_N"
   ]
  },
  {
   "cell_type": "code",
   "execution_count": 32,
   "metadata": {},
   "outputs": [
    {
     "data": {
      "image/png": "[encoded data removed]",
      "text/latex": [
       "$$\\dot{u}_{1}\\mathbf{\\hat{n}_x} + l \\dot{u}_{2}\\mathbf{\\hat{b}_x} + l u^{2}_{2}\\mathbf{\\hat{b}_y} + l \\left(\\dot{u}_{2} + \\dot{u}_{3}\\right)\\mathbf{\\hat{c}_x} + l \\left(u_{2} + u_{3}\\right)^{2}\\mathbf{\\hat{c}_y}$$"
      ],
      "text/plain": [
       "u1'*N.x + l*u2'*B.x + l*u2**2*B.y + l*(u2' + u3')*C.x + l*(u2 + u3)**2*C.y"
      ]
     },
     "execution_count": 32,
     "metadata": {},
     "output_type": "execute_result"
    }
   ],
   "source": [
    "a_Pc_N = Pc.acc(N)\n",
    "a_Pc_N"
   ]
  },
  {
   "cell_type": "markdown",
   "metadata": {},
   "source": [
    "# Loads (forces and torques)"
   ]
  },
  {
   "cell_type": "code",
   "execution_count": 33,
   "metadata": {},
   "outputs": [
    {
     "data": {
      "image/png": "[encoded data removed]",
      "text/latex": [
       "$$(- c u_{1} - k q_{1} + F)\\mathbf{\\hat{n}_x}$$"
      ],
      "text/plain": [
       "(-c*u1 - k*q1 + F)*N.x"
      ]
     },
     "execution_count": 33,
     "metadata": {},
     "output_type": "execute_result"
    }
   ],
   "source": [
    "Rab = (F - k * q1 - c * u1) * N.x\n",
    "Rab"
   ]
  },
  {
   "cell_type": "code",
   "execution_count": 34,
   "metadata": {},
   "outputs": [
    {
     "data": {
      "image/png": "[encoded data removed]",
      "text/latex": [
       "$$-  g m_{b}\\mathbf{\\hat{n}_y}$$"
      ],
      "text/plain": [
       "- g*m_b*N.y"
      ]
     },
     "execution_count": 34,
     "metadata": {},
     "output_type": "execute_result"
    }
   ],
   "source": [
    "Rbo = -(mb * g) * N.y\n",
    "Rbo"
   ]
  },
  {
   "cell_type": "code",
   "execution_count": 35,
   "metadata": {},
   "outputs": [
    {
     "data": {
      "image/png": "[encoded data removed]",
      "text/latex": [
       "$$-  g m_{c}\\mathbf{\\hat{n}_y}$$"
      ],
      "text/plain": [
       "- g*m_c*N.y"
      ]
     },
     "execution_count": 35,
     "metadata": {},
     "output_type": "execute_result"
    }
   ],
   "source": [
    "Rc = -(mc * g) * N.y\n",
    "Rc"
   ]
  },
  {
   "cell_type": "code",
   "execution_count": 36,
   "metadata": {},
   "outputs": [
    {
     "data": {
      "image/png": "[encoded data removed]",
      "text/latex": [
       "$$(k_{T} q_{3} + T)\\mathbf{\\hat{n}_z}$$"
      ],
      "text/plain": [
       "(k_T*q3 + T)*N.z"
      ]
     },
     "execution_count": 36,
     "metadata": {},
     "output_type": "execute_result"
    }
   ],
   "source": [
    "TB = (T + kT * q3) * N.z\n",
    "TB"
   ]
  },
  {
   "cell_type": "markdown",
   "metadata": {},
   "source": [
    "# Mass and Inertia"
   ]
  },
  {
   "cell_type": "code",
   "execution_count": 37,
   "metadata": {},
   "outputs": [
    {
     "data": {
      "image/png": "[encoded data removed]",
      "text/latex": [
       "$$I_{B_bo}\\mathbf{\\hat{b}_z}\\otimes \\mathbf{\\hat{b}_z}$$"
      ],
      "text/plain": [
       "I_{B_bo}*(B.z|B.z)"
      ]
     },
     "execution_count": 37,
     "metadata": {},
     "output_type": "execute_result"
    }
   ],
   "source": [
    "IB = me.inertia(B, 0, 0, IB_bo)\n",
    "IB"
   ]
  },
  {
   "cell_type": "code",
   "execution_count": 38,
   "metadata": {},
   "outputs": [
    {
     "data": {
      "image/png": "[encoded data removed]",
      "text/latex": [
       "$$\\left ( m_{a}, \\quad m_{c}\\right )$$"
      ],
      "text/plain": [
       "(m_a, m_c)"
      ]
     },
     "execution_count": 38,
     "metadata": {},
     "output_type": "execute_result"
    }
   ],
   "source": [
    "ma, mc"
   ]
  },
  {
   "cell_type": "markdown",
   "metadata": {},
   "source": [
    "# Particles and Bodies"
   ]
  },
  {
   "cell_type": "code",
   "execution_count": 39,
   "metadata": {},
   "outputs": [],
   "source": [
    "slider = me.Particle('slider', Pab, ma)\n",
    "bob = me.Particle('bob', Pc, mc)"
   ]
  },
  {
   "cell_type": "code",
   "execution_count": 40,
   "metadata": {},
   "outputs": [],
   "source": [
    "pend = me.RigidBody('pend', Bo, B, mb, (IB, Bo))"
   ]
  },
  {
   "cell_type": "code",
   "execution_count": 41,
   "metadata": {},
   "outputs": [],
   "source": [
    "bodies = [slider, bob, pend]"
   ]
  },
  {
   "cell_type": "markdown",
   "metadata": {},
   "source": [
    "# Loads (forces and torques)"
   ]
  },
  {
   "cell_type": "code",
   "execution_count": 42,
   "metadata": {},
   "outputs": [],
   "source": [
    "loads = [(Pab, Rab),\n",
    "         (Pc, Rc),\n",
    "         (Bo, Rbo),\n",
    "         (B, TB)]"
   ]
  },
  {
   "cell_type": "code",
   "execution_count": 43,
   "metadata": {},
   "outputs": [],
   "source": [
    "q = sm.Matrix([q1, q2, q3])\n",
    "u = sm.Matrix([u1, u2, u3])"
   ]
  },
  {
   "cell_type": "code",
   "execution_count": 44,
   "metadata": {},
   "outputs": [],
   "source": [
    "kane = me.KanesMethod(N, q, u, kd_eqs=kdes)"
   ]
  },
  {
   "cell_type": "code",
   "execution_count": 45,
   "metadata": {},
   "outputs": [],
   "source": [
    "Fr, Frstar = kane.kanes_equations(bodies, loads)"
   ]
  },
  {
   "cell_type": "code",
   "execution_count": 46,
   "metadata": {},
   "outputs": [
    {
     "data": {
      "image/png": "[encoded data removed]",
      "text/latex": [
       "$$\\left[\\begin{matrix}- c u_{1} - k q_{1} + F\\\\- \\frac{2 g}{3} l m_{b} \\operatorname{sin}\\left(q_{2}\\right) - g l m_{c} \\left(\\operatorname{sin}\\left(q_{2}\\right) \\operatorname{cos}\\left(q_{3}\\right) + \\operatorname{sin}\\left(q_{3}\\right) \\operatorname{cos}\\left(q_{2}\\right)\\right) - g l m_{c} \\operatorname{sin}\\left(q_{2}\\right) + k_{T} q_{3} + T\\\\- g l m_{c} \\left(\\operatorname{sin}\\left(q_{2}\\right) \\operatorname{cos}\\left(q_{3}\\right) + \\operatorname{sin}\\left(q_{3}\\right) \\operatorname{cos}\\left(q_{2}\\right)\\right)\\end{matrix}\\right]$$"
      ],
      "text/plain": [
       "Matrix([\n",
       "[                                                                                 -c*u1 - k*q1 + F],\n",
       "[-2*g*l*m_b*sin(q2)/3 - g*l*m_c*(sin(q2)*cos(q3) + sin(q3)*cos(q2)) - g*l*m_c*sin(q2) + k_T*q3 + T],\n",
       "[                                                     -g*l*m_c*(sin(q2)*cos(q3) + sin(q3)*cos(q2))]])"
      ]
     },
     "execution_count": 46,
     "metadata": {},
     "output_type": "execute_result"
    }
   ],
   "source": [
    "Fr"
   ]
  },
  {
   "cell_type": "code",
   "execution_count": 47,
   "metadata": {},
   "outputs": [
    {
     "data": {
      "image/png": "[encoded data removed]",
      "text/latex": [
       "$$\\left[\\begin{matrix}\\frac{2 l}{3} m_{b} u^{2}_{2} \\operatorname{sin}\\left(q_{2}\\right) - l m_{c} \\left(- \\operatorname{sin}\\left(q_{2}\\right) \\operatorname{sin}\\left(q_{3}\\right) + \\operatorname{cos}\\left(q_{2}\\right) \\operatorname{cos}\\left(q_{3}\\right)\\right) \\dot{u}_{3} - l m_{c} \\left(- \\operatorname{sin}\\left(q_{2}\\right) \\operatorname{cos}\\left(q_{3}\\right) - \\operatorname{sin}\\left(q_{3}\\right) \\operatorname{cos}\\left(q_{2}\\right)\\right) \\left(u_{2} + u_{3}\\right)^{2} + l m_{c} u^{2}_{2} \\operatorname{sin}\\left(q_{2}\\right) - \\left(\\frac{2 l}{3} m_{b} \\operatorname{cos}\\left(q_{2}\\right) + m_{c} \\left(l \\left(- \\operatorname{sin}\\left(q_{2}\\right) \\operatorname{sin}\\left(q_{3}\\right) + \\operatorname{cos}\\left(q_{2}\\right) \\operatorname{cos}\\left(q_{3}\\right)\\right) + l \\operatorname{cos}\\left(q_{2}\\right)\\right)\\right) \\dot{u}_{2} - \\left(m_{a} + m_{b} + m_{c}\\right) \\dot{u}_{1}\\\\l^{2} m_{c} \\left(u_{2} + u_{3}\\right)^{2} \\operatorname{sin}\\left(q_{3}\\right) - l^{2} m_{c} u^{2}_{2} \\operatorname{sin}\\left(q_{3}\\right) - m_{c} \\left(l^{2} \\operatorname{cos}\\left(q_{3}\\right) + l^{2}\\right) \\dot{u}_{3} - \\left(\\frac{2 l}{3} m_{b} \\operatorname{cos}\\left(q_{2}\\right) + m_{c} \\left(l \\left(- \\operatorname{sin}\\left(q_{2}\\right) \\operatorname{sin}\\left(q_{3}\\right) + \\operatorname{cos}\\left(q_{2}\\right) \\operatorname{cos}\\left(q_{3}\\right)\\right) + l \\operatorname{cos}\\left(q_{2}\\right)\\right)\\right) \\dot{u}_{1} - \\left(I_{B_bo} + \\frac{4 m_{b}}{9} l^{2} + m_{c} \\left(2 l^{2} \\operatorname{cos}\\left(q_{3}\\right) + 2 l^{2}\\right)\\right) \\dot{u}_{2}\\\\- l^{2} m_{c} u^{2}_{2} \\operatorname{sin}\\left(q_{3}\\right) - l^{2} m_{c} \\dot{u}_{3} - l m_{c} \\left(- \\operatorname{sin}\\left(q_{2}\\right) \\operatorname{sin}\\left(q_{3}\\right) + \\operatorname{cos}\\left(q_{2}\\right) \\operatorname{cos}\\left(q_{3}\\right)\\right) \\dot{u}_{1} - m_{c} \\left(l^{2} \\operatorname{cos}\\left(q_{3}\\right) + l^{2}\\right) \\dot{u}_{2}\\end{matrix}\\right]$$"
      ],
      "text/plain": [
       "Matrix([\n",
       "[2*l*m_b*u2**2*sin(q2)/3 - l*m_c*(-sin(q2)*sin(q3) + cos(q2)*cos(q3))*u3' - l*m_c*(-sin(q2)*cos(q3) - sin(q3)*cos(q2))*(u2 + u3)**2 + l*m_c*u2**2*sin(q2) - (2*l*m_b*cos(q2)/3 + m_c*(l*(-sin(q2)*sin(q3) + cos(q2)*cos(q3)) + l*cos(q2)))*u2' - (m_a + m_b + m_c)*u1'],\n",
       "[                          l**2*m_c*(u2 + u3)**2*sin(q3) - l**2*m_c*u2**2*sin(q3) - m_c*(l**2*cos(q3) + l**2)*u3' - (2*l*m_b*cos(q2)/3 + m_c*(l*(-sin(q2)*sin(q3) + cos(q2)*cos(q3)) + l*cos(q2)))*u1' - (I_{B_bo} + 4*l**2*m_b/9 + m_c*(2*l**2*cos(q3) + 2*l**2))*u2'],\n",
       "[                                                                                                                                              -l**2*m_c*u2**2*sin(q3) - l**2*m_c*u3' - l*m_c*(-sin(q2)*sin(q3) + cos(q2)*cos(q3))*u1' - m_c*(l**2*cos(q3) + l**2)*u2']])"
      ]
     },
     "execution_count": 47,
     "metadata": {},
     "output_type": "execute_result"
    }
   ],
   "source": [
    "Frstar"
   ]
  },
  {
   "cell_type": "code",
   "execution_count": 48,
   "metadata": {},
   "outputs": [],
   "source": [
    "f = Fr + Frstar"
   ]
  },
  {
   "cell_type": "code",
   "execution_count": 49,
   "metadata": {},
   "outputs": [
    {
     "data": {
      "image/png": "[encoded data removed]",
      "text/latex": [
       "$$\\left[\\begin{matrix}- k q_{1}\\\\- \\frac{2 g}{3} l m_{b} \\operatorname{sin}\\left(q_{2}\\right) - g l m_{c} \\left(\\operatorname{sin}\\left(q_{2}\\right) \\operatorname{cos}\\left(q_{3}\\right) + \\operatorname{sin}\\left(q_{3}\\right) \\operatorname{cos}\\left(q_{2}\\right)\\right) - g l m_{c} \\operatorname{sin}\\left(q_{2}\\right) + k_{T} q_{3}\\\\- g l m_{c} \\left(\\operatorname{sin}\\left(q_{2}\\right) \\operatorname{cos}\\left(q_{3}\\right) + \\operatorname{sin}\\left(q_{3}\\right) \\operatorname{cos}\\left(q_{2}\\right)\\right)\\end{matrix}\\right]$$"
      ],
      "text/plain": [
       "Matrix([\n",
       "[                                                                                        -k*q1],\n",
       "[-2*g*l*m_b*sin(q2)/3 - g*l*m_c*(sin(q2)*cos(q3) + sin(q3)*cos(q2)) - g*l*m_c*sin(q2) + k_T*q3],\n",
       "[                                                 -g*l*m_c*(sin(q2)*cos(q3) + sin(q3)*cos(q2))]])"
      ]
     },
     "execution_count": 49,
     "metadata": {},
     "output_type": "execute_result"
    }
   ],
   "source": [
    "f_static = f.subs({u1.diff(): 0, u2.diff(): 0, u3.diff(): 0}).subs({u1: 0, u2: 0, u3: 0}).subs({F: 0, T: 0})\n",
    "f_static"
   ]
  },
  {
   "cell_type": "code",
   "execution_count": 50,
   "metadata": {},
   "outputs": [
    {
     "data": {
      "image/png": "[encoded data removed]",
      "text/latex": [
       "$$\\left[\\begin{matrix}- \\frac{2 g}{3} l m_{b} \\operatorname{tan}\\left(q_{2}\\right) - g l m_{c} \\operatorname{sin}\\left(q_{3}\\right) - g l m_{c} \\operatorname{cos}\\left(q_{3}\\right) \\operatorname{tan}\\left(q_{2}\\right) - g l m_{c} \\operatorname{tan}\\left(q_{2}\\right) + \\frac{k_{T} q_{3}}{\\operatorname{cos}\\left(q_{2}\\right)}\\\\- g l m_{c} \\operatorname{sin}\\left(q_{3}\\right) - g l m_{c} \\operatorname{cos}\\left(q_{3}\\right) \\operatorname{tan}\\left(q_{2}\\right)\\end{matrix}\\right]$$"
      ],
      "text/plain": [
       "Matrix([\n",
       "[-2*g*l*m_b*tan(q2)/3 - g*l*m_c*sin(q3) - g*l*m_c*cos(q3)*tan(q2) - g*l*m_c*tan(q2) + k_T*q3/cos(q2)],\n",
       "[                                                         -g*l*m_c*sin(q3) - g*l*m_c*cos(q3)*tan(q2)]])"
      ]
     },
     "execution_count": 50,
     "metadata": {},
     "output_type": "execute_result"
    }
   ],
   "source": [
    "f_static_01 = sm.trigsimp(sm.expand(f_static[1:, :] / sm.cos(q2)).rewrite(sm.tan))\n",
    "f_static_01 = sm.expand(sm.expand_trig(f_static_01)).subs({sm.sin(q2) / sm.cos(q2): sm.tan(q2)})\n",
    "f_static_01"
   ]
  },
  {
   "cell_type": "code",
   "execution_count": 51,
   "metadata": {},
   "outputs": [
    {
     "data": {
      "image/png": "[encoded data removed]",
      "text/latex": [
       "$$\\left [ - \\operatorname{tan}\\left(q_{3}\\right)\\right ]$$"
      ],
      "text/plain": [
       "[-tan(q3)]"
      ]
     },
     "execution_count": 51,
     "metadata": {},
     "output_type": "execute_result"
    }
   ],
   "source": [
    "sm.solve(f_static_01[1], sm.tan(q2))"
   ]
  },
  {
   "cell_type": "code",
   "execution_count": 57,
   "metadata": {},
   "outputs": [
    {
     "data": {
      "image/png": "[encoded data removed]",
      "text/latex": [
       "$$- 2 g l m_{b} \\operatorname{sin}\\left(q_{3}\\right) - 3 g l m_{c} \\operatorname{sin}\\left(q_{3}\\right) - 3 k_{T} q_{3}$$"
      ],
      "text/plain": [
       "-2*g*l*m_b*sin(q3) - 3*g*l*m_c*sin(q3) - 3*k_T*q3"
      ]
     },
     "execution_count": 57,
     "metadata": {},
     "output_type": "execute_result"
    }
   ],
   "source": [
    "eq2 = sm.solve(f_static_01[0].subs({sm.tan(q2): -sm.tan(q3)}), sm.cos(q2))[0] - sm.cos(q2)\n",
    "eq2 = sm.trigsimp(sm.expand(sm.expand(eq2.subs({q2: -q3})) * (2 * g * l * mb * sm.tan(q3) + 3 * g * l * mc * sm.tan(q3))))\n",
    "eq2"
   ]
  },
  {
   "cell_type": "code",
   "execution_count": 58,
   "metadata": {},
   "outputs": [
    {
     "data": {
      "image/png": "[encoded data removed]",
      "text/latex": [
       "$$- 2 m_{b} - 3 m_{c} - \\frac{3 k_{T} q_{3}}{g l \\operatorname{sin}\\left(q_{3}\\right)}$$"
      ],
      "text/plain": [
       "-2*m_b - 3*m_c - 3*k_T*q3/(g*l*sin(q3))"
      ]
     },
     "execution_count": 58,
     "metadata": {},
     "output_type": "execute_result"
    }
   ],
   "source": [
    "eq2 = sm.expand(eq2 / sm.sin(q3) / g / l)\n",
    "eq2"
   ]
  },
  {
   "cell_type": "code",
   "execution_count": 68,
   "metadata": {},
   "outputs": [
    {
     "data": {
      "image/png": "[encoded data removed]",
      "text/latex": [
       "$$\\operatorname{sin}\\left(q_{2}\\right) \\operatorname{cos}\\left(q_{3}\\right) + \\operatorname{sin}\\left(q_{3}\\right) \\operatorname{cos}\\left(q_{2}\\right)$$"
      ],
      "text/plain": [
       "sin(q2)*cos(q3) + sin(q3)*cos(q2)"
      ]
     },
     "execution_count": 68,
     "metadata": {},
     "output_type": "execute_result"
    }
   ],
   "source": [
    "eq1 = (sm.tan(q3) + sm.tan(q2)).subs({sm.tan(q2): sm.sin(q2) / sm.cos(q2), sm.tan(q3): sm.sin(q3) / sm.cos(q3)})\n",
    "(eq1  * sm.cos(q2) * sm.cos(q3)).expand()"
   ]
  },
  {
   "cell_type": "code",
   "execution_count": null,
   "metadata": {},
   "outputs": [],
   "source": []
  },
  {
   "cell_type": "code",
   "execution_count": 71,
   "metadata": {},
   "outputs": [
    {
     "data": {
      "image/png": "[encoded data removed]",
      "text/latex": [
       "$$\\left[\\begin{matrix}- k q_{1}\\\\0\\\\0\\end{matrix}\\right]$$"
      ],
      "text/plain": [
       "Matrix([\n",
       "[-k*q1],\n",
       "[    0],\n",
       "[    0]])"
      ]
     },
     "execution_count": 71,
     "metadata": {},
     "output_type": "execute_result"
    }
   ],
   "source": [
    "f_static.subs({q2: sm.pi, q3: 0})"
   ]
  },
  {
   "cell_type": "code",
   "execution_count": 73,
   "metadata": {},
   "outputs": [
    {
     "name": "stdout",
     "output_type": "stream",
     "text": [
      "Using matplotlib backend: Qt4Agg\n"
     ]
    },
    {
     "data": {
      "text/plain": [
       "<sympy.plotting.plot.Plot at 0x7fe04ded2da0>"
      ]
     },
     "execution_count": 73,
     "metadata": {},
     "output_type": "execute_result"
    }
   ],
   "source": [
    "%matplotlib\n",
    "\n",
    "sm.plot(sm.tan(l), -sm.tan(l))"
   ]
  },
  {
   "cell_type": "code",
   "execution_count": 74,
   "metadata": {},
   "outputs": [],
   "source": [
    "v = sm.Matrix([q1, q2, q3, u1, u2, u3, u1.diff(), u2.diff(), u3.diff()])"
   ]
  },
  {
   "cell_type": "code",
   "execution_count": 80,
   "metadata": {},
   "outputs": [
    {
     "data": {
      "image/png": "[encoded data removed]",
      "text/latex": [
       "$$\\left ( 9, \\quad 1\\right )$$"
      ],
      "text/plain": [
       "(9, 1)"
      ]
     },
     "execution_count": 80,
     "metadata": {},
     "output_type": "execute_result"
    }
   ],
   "source": [
    "v.shape"
   ]
  },
  {
   "cell_type": "code",
   "execution_count": 82,
   "metadata": {},
   "outputs": [],
   "source": [
    "v0 = sm.zeros(9, 1)"
   ]
  },
  {
   "cell_type": "code",
   "execution_count": 83,
   "metadata": {},
   "outputs": [
    {
     "data": {
      "image/png": "[encoded data removed]",
      "text/latex": [
       "$$\\left ( 9, \\quad 1\\right )$$"
      ],
      "text/plain": [
       "(9, 1)"
      ]
     },
     "execution_count": 83,
     "metadata": {},
     "output_type": "execute_result"
    }
   ],
   "source": [
    "v0.shape"
   ]
  },
  {
   "cell_type": "code",
   "execution_count": 84,
   "metadata": {},
   "outputs": [
    {
     "data": {
      "image/png": "[encoded data removed]",
      "text/latex": [
       "$$\\left \\{ q_{1} : 0, \\quad q_{2} : 0, \\quad q_{3} : 0, \\quad u_{1} : 0, \\quad u_{2} : 0, \\quad u_{3} : 0, \\quad \\dot{u}_{1} : 0, \\quad \\dot{u}_{2} : 0, \\quad \\dot{u}_{3} : 0\\right \\}$$"
      ],
      "text/plain": [
       "{q1: 0, q2: 0, q3: 0, u1: 0, u2: 0, u3: 0, u1': 0, u2': 0, u3': 0}"
      ]
     },
     "execution_count": 84,
     "metadata": {},
     "output_type": "execute_result"
    }
   ],
   "source": [
    "veq = {k: v for k, v in zip(v, v0)}\n",
    "veq"
   ]
  },
  {
   "cell_type": "code",
   "execution_count": 86,
   "metadata": {},
   "outputs": [
    {
     "data": {
      "image/png": "[encoded data removed]",
      "text/latex": [
       "$$\\left[\\begin{matrix}- c u_{1} - k q_{1} - l m_{c} \\dot{u}_{3} + \\left(- \\frac{2 l}{3} m_{b} - 2 l m_{c}\\right) \\dot{u}_{2} + \\left(- m_{a} - m_{b} - m_{c}\\right) \\dot{u}_{1} + F\\\\- 2 l^{2} m_{c} \\dot{u}_{3} + \\left(- \\frac{2 l}{3} m_{b} - 2 l m_{c}\\right) \\dot{u}_{1} + \\left(- \\frac{2 g}{3} l m_{b} - 2 g l m_{c}\\right) q_{2} + \\left(- g l m_{c} + k_{T}\\right) q_{3} + \\left(- I_{B_bo} - \\frac{4 m_{b}}{9} l^{2} - 4 l^{2} m_{c}\\right) \\dot{u}_{2} + T\\\\- g l m_{c} q_{2} - g l m_{c} q_{3} - 2 l^{2} m_{c} \\dot{u}_{2} - l^{2} m_{c} \\dot{u}_{3} - l m_{c} \\dot{u}_{1}\\end{matrix}\\right]$$"
      ],
      "text/plain": [
       "Matrix([\n",
       "[                                                                  -c*u1 - k*q1 - l*m_c*u3' + (-2*l*m_b/3 - 2*l*m_c)*u2' + (-m_a - m_b - m_c)*u1' + F],\n",
       "[-2*l**2*m_c*u3' + (-2*l*m_b/3 - 2*l*m_c)*u1' + (-2*g*l*m_b/3 - 2*g*l*m_c)*q2 + (-g*l*m_c + k_T)*q3 + (-I_{B_bo} - 4*l**2*m_b/9 - 4*l**2*m_c)*u2' + T],\n",
       "[                                                                                -g*l*m_c*q2 - g*l*m_c*q3 - 2*l**2*m_c*u2' - l**2*m_c*u3' - l*m_c*u1']])"
      ]
     },
     "execution_count": 86,
     "metadata": {},
     "output_type": "execute_result"
    }
   ],
   "source": [
    "f_lin = f.subs(veq) + f.jacobian(v).subs(veq) * (v - v0)\n",
    "f_lin"
   ]
  },
  {
   "cell_type": "code",
   "execution_count": 94,
   "metadata": {},
   "outputs": [
    {
     "data": {
      "image/png": "[encoded data removed]",
      "text/latex": [
       "$$\\left[\\begin{matrix}- m_{a} - m_{b} - m_{c} & - \\frac{2 l}{3} m_{b} - 2 l m_{c} & - l m_{c}\\\\- \\frac{2 l}{3} m_{b} - 2 l m_{c} & - I_{B_bo} - \\frac{4 m_{b}}{9} l^{2} - 4 l^{2} m_{c} & - 2 l^{2} m_{c}\\\\- l m_{c} & - 2 l^{2} m_{c} & - l^{2} m_{c}\\end{matrix}\\right]$$"
      ],
      "text/plain": [
       "Matrix([\n",
       "[    -m_a - m_b - m_c,                  -2*l*m_b/3 - 2*l*m_c,      -l*m_c],\n",
       "[-2*l*m_b/3 - 2*l*m_c, -I_{B_bo} - 4*l**2*m_b/9 - 4*l**2*m_c, -2*l**2*m_c],\n",
       "[              -l*m_c,                           -2*l**2*m_c,   -l**2*m_c]])"
      ]
     },
     "execution_count": 94,
     "metadata": {},
     "output_type": "execute_result"
    }
   ],
   "source": [
    "udot = sm.Matrix([u1.diff(), u2.diff(), u3.diff()])\n",
    "M = f_lin.jacobian(udot)\n",
    "M"
   ]
  },
  {
   "cell_type": "code",
   "execution_count": 95,
   "metadata": {},
   "outputs": [
    {
     "data": {
      "image/png": "[encoded data removed]",
      "text/latex": [
       "$$\\left[\\begin{matrix}- c & 0 & 0\\\\0 & 0 & 0\\\\0 & 0 & 0\\end{matrix}\\right]$$"
      ],
      "text/plain": [
       "Matrix([\n",
       "[-c, 0, 0],\n",
       "[ 0, 0, 0],\n",
       "[ 0, 0, 0]])"
      ]
     },
     "execution_count": 95,
     "metadata": {},
     "output_type": "execute_result"
    }
   ],
   "source": [
    "u = sm.Matrix([u1, u2, u3])\n",
    "C = f_lin.jacobian([u1, u2, u3])\n",
    "C"
   ]
  },
  {
   "cell_type": "code",
   "execution_count": 96,
   "metadata": {},
   "outputs": [
    {
     "data": {
      "image/png": "[encoded data removed]",
      "text/latex": [
       "$$\\left[\\begin{matrix}- k & 0 & 0\\\\0 & - \\frac{2 g}{3} l m_{b} - 2 g l m_{c} & - g l m_{c} + k_{T}\\\\0 & - g l m_{c} & - g l m_{c}\\end{matrix}\\right]$$"
      ],
      "text/plain": [
       "Matrix([\n",
       "[-k,                        0,              0],\n",
       "[ 0, -2*g*l*m_b/3 - 2*g*l*m_c, -g*l*m_c + k_T],\n",
       "[ 0,                 -g*l*m_c,       -g*l*m_c]])"
      ]
     },
     "execution_count": 96,
     "metadata": {},
     "output_type": "execute_result"
    }
   ],
   "source": [
    "q = sm.Matrix([q1, q2, q3])\n",
    "K = f_lin.jacobian(q)\n",
    "K"
   ]
  },
  {
   "cell_type": "code",
   "execution_count": 98,
   "metadata": {},
   "outputs": [
    {
     "data": {
      "image/png": "[encoded data removed]",
      "text/latex": [
       "$$\\left[\\begin{matrix}F\\\\T\\\\0\\end{matrix}\\right]$$"
      ],
      "text/plain": [
       "Matrix([\n",
       "[F],\n",
       "[T],\n",
       "[0]])"
      ]
     },
     "execution_count": 98,
     "metadata": {},
     "output_type": "execute_result"
    }
   ],
   "source": [
    "F = f_lin - M * u.diff() - C * u - K * q\n",
    "F"
   ]
  },
  {
   "cell_type": "code",
   "execution_count": 99,
   "metadata": {},
   "outputs": [
    {
     "data": {
      "image/png": "[encoded data removed]",
      "text/latex": [
       "$$\\left[\\begin{matrix}q_{1}\\\\q_{2}\\\\q_{3}\\\\u_{1}\\\\u_{2}\\\\u_{3}\\end{matrix}\\right]$$"
      ],
      "text/plain": [
       "Matrix([\n",
       "[q1],\n",
       "[q2],\n",
       "[q3],\n",
       "[u1],\n",
       "[u2],\n",
       "[u3]])"
      ]
     },
     "execution_count": 99,
     "metadata": {},
     "output_type": "execute_result"
    }
   ],
   "source": [
    "x = q.col_join(u)\n",
    "x"
   ]
  },
  {
   "cell_type": "code",
   "execution_count": 104,
   "metadata": {},
   "outputs": [],
   "source": [
    "nMinvK = sm.simplify(-M.LUsolve(K))\n",
    "nMinvC = sm.simplify(-M.LUsolve(C))"
   ]
  },
  {
   "cell_type": "code",
   "execution_count": 105,
   "metadata": {},
   "outputs": [
    {
     "data": {
      "image/png": "[encoded data removed]",
      "text/latex": [
       "$$\\left[\\begin{matrix}0 & 0 & 0 & 1 & 0 & 0\\\\0 & 0 & 0 & 0 & 1 & 0\\\\0 & 0 & 0 & 0 & 0 & 1\\\\- \\frac{k \\left(9 I_{B_bo} + 4 l^{2} m_{b}\\right)}{9 I_{B_bo} m_{a} + 9 I_{B_bo} m_{b} + 4 l^{2} m_{a} m_{b}} & \\frac{g \\left(9 I_{B_bo} m_{c} + 4 l^{2} m_{b}^{2} + 4 l^{2} m_{b} m_{c}\\right)}{9 I_{B_bo} m_{a} + 9 I_{B_bo} m_{b} + 4 l^{2} m_{a} m_{b}} & \\frac{9 I_{B_bo} g m_{c} - 2 g l^{2} m_{b} m_{c} - 6 k_{T} l m_{b}}{9 I_{B_bo} m_{a} + 9 I_{B_bo} m_{b} + 4 l^{2} m_{a} m_{b}} & - \\frac{c \\left(9 I_{B_bo} + 4 l^{2} m_{b}\\right)}{9 I_{B_bo} m_{a} + 9 I_{B_bo} m_{b} + 4 l^{2} m_{a} m_{b}} & 0 & 0\\\\\\frac{6 k l m_{b}}{9 I_{B_bo} m_{a} + 9 I_{B_bo} m_{b} + 4 l^{2} m_{a} m_{b}} & - \\frac{6 g l m_{b} \\left(m_{a} + m_{b} + m_{c}\\right)}{9 I_{B_bo} m_{a} + 9 I_{B_bo} m_{b} + 4 l^{2} m_{a} m_{b}} & \\frac{3 \\left(3 g l m_{a} m_{c} + g l m_{b} m_{c} + 3 k_{T} m_{a} + 3 k_{T} m_{b}\\right)}{9 I_{B_bo} m_{a} + 9 I_{B_bo} m_{b} + 4 l^{2} m_{a} m_{b}} & \\frac{6 c l m_{b}}{9 I_{B_bo} m_{a} + 9 I_{B_bo} m_{b} + 4 l^{2} m_{a} m_{b}} & 0 & 0\\\\\\frac{k \\left(9 I_{B_bo} - 8 l^{2} m_{b}\\right)}{l \\left(9 I_{B_bo} m_{a} + 9 I_{B_bo} m_{b} + 4 l^{2} m_{a} m_{b}\\right)} & \\frac{g}{l \\left(9 I_{B_bo} m_{a} + 9 I_{B_bo} m_{b} + 4 l^{2} m_{a} m_{b}\\right)} \\left(- 9 I_{B_bo} m_{a} - 9 I_{B_bo} m_{b} - 9 I_{B_bo} m_{c} + 8 l^{2} m_{a} m_{b} + 8 l^{2} m_{b}^{2} + 8 l^{2} m_{b} m_{c}\\right) & - \\frac{1}{l \\left(9 I_{B_bo} m_{a} + 9 I_{B_bo} m_{b} + 4 l^{2} m_{a} m_{b}\\right)} \\left(9 I_{B_bo} g m_{a} + 9 I_{B_bo} g m_{b} + 9 I_{B_bo} g m_{c} + 4 g l^{2} m_{a} m_{b} + 18 g l^{2} m_{a} m_{c} + 4 g l^{2} m_{b} m_{c} + 18 k_{T} l m_{a} + 12 k_{T} l m_{b}\\right) & \\frac{c \\left(9 I_{B_bo} - 8 l^{2} m_{b}\\right)}{l \\left(9 I_{B_bo} m_{a} + 9 I_{B_bo} m_{b} + 4 l^{2} m_{a} m_{b}\\right)} & 0 & 0\\end{matrix}\\right]$$"
      ],
      "text/plain": [
       "Matrix([\n",
       "[                                                                                 0,                                                                                                                                                              0,                                                                                                                                                                                                        0,                                                                                  1, 0, 0],\n",
       "[                                                                                 0,                                                                                                                                                              0,                                                                                                                                                                                                        0,                                                                                  0, 1, 0],\n",
       "[                                                                                 0,                                                                                                                                                              0,                                                                                                                                                                                                        0,                                                                                  0, 0, 1],\n",
       "[   -k*(9*I_{B_bo} + 4*l**2*m_b)/(9*I_{B_bo}*m_a + 9*I_{B_bo}*m_b + 4*l**2*m_a*m_b),                                                         g*(9*I_{B_bo}*m_c + 4*l**2*m_b**2 + 4*l**2*m_b*m_c)/(9*I_{B_bo}*m_a + 9*I_{B_bo}*m_b + 4*l**2*m_a*m_b),                                                                                                   (9*I_{B_bo}*g*m_c - 2*g*l**2*m_b*m_c - 6*k_T*l*m_b)/(9*I_{B_bo}*m_a + 9*I_{B_bo}*m_b + 4*l**2*m_a*m_b),    -c*(9*I_{B_bo} + 4*l**2*m_b)/(9*I_{B_bo}*m_a + 9*I_{B_bo}*m_b + 4*l**2*m_a*m_b), 0, 0],\n",
       "[                      6*k*l*m_b/(9*I_{B_bo}*m_a + 9*I_{B_bo}*m_b + 4*l**2*m_a*m_b),                                                                                -6*g*l*m_b*(m_a + m_b + m_c)/(9*I_{B_bo}*m_a + 9*I_{B_bo}*m_b + 4*l**2*m_a*m_b),                                                                                               3*(3*g*l*m_a*m_c + g*l*m_b*m_c + 3*k_T*m_a + 3*k_T*m_b)/(9*I_{B_bo}*m_a + 9*I_{B_bo}*m_b + 4*l**2*m_a*m_b),                       6*c*l*m_b/(9*I_{B_bo}*m_a + 9*I_{B_bo}*m_b + 4*l**2*m_a*m_b), 0, 0],\n",
       "[k*(9*I_{B_bo} - 8*l**2*m_b)/(l*(9*I_{B_bo}*m_a + 9*I_{B_bo}*m_b + 4*l**2*m_a*m_b)), g*(-9*I_{B_bo}*m_a - 9*I_{B_bo}*m_b - 9*I_{B_bo}*m_c + 8*l**2*m_a*m_b + 8*l**2*m_b**2 + 8*l**2*m_b*m_c)/(l*(9*I_{B_bo}*m_a + 9*I_{B_bo}*m_b + 4*l**2*m_a*m_b)), -(9*I_{B_bo}*g*m_a + 9*I_{B_bo}*g*m_b + 9*I_{B_bo}*g*m_c + 4*g*l**2*m_a*m_b + 18*g*l**2*m_a*m_c + 4*g*l**2*m_b*m_c + 18*k_T*l*m_a + 12*k_T*l*m_b)/(l*(9*I_{B_bo}*m_a + 9*I_{B_bo}*m_b + 4*l**2*m_a*m_b)), c*(9*I_{B_bo} - 8*l**2*m_b)/(l*(9*I_{B_bo}*m_a + 9*I_{B_bo}*m_b + 4*l**2*m_a*m_b)), 0, 0]])"
      ]
     },
     "execution_count": 105,
     "metadata": {},
     "output_type": "execute_result"
    }
   ],
   "source": [
    "A = sm.zeros(3, 3).row_join(sm.eye(3)).col_join(nMinvK.row_join(nMinvC))\n",
    "A"
   ]
  },
  {
   "cell_type": "code",
   "execution_count": 106,
   "metadata": {},
   "outputs": [],
   "source": [
    "Minv = sm.simplify(-M.inv())"
   ]
  },
  {
   "cell_type": "code",
   "execution_count": 107,
   "metadata": {},
   "outputs": [
    {
     "data": {
      "image/png": "[encoded data removed]",
      "text/latex": [
       "$$\\left[\\begin{matrix}0 & 0 & 0\\\\0 & 0 & 0\\\\0 & 0 & 0\\\\\\frac{9 I_{B_bo} + 4 l^{2} m_{b}}{9 I_{B_bo} m_{a} + 9 I_{B_bo} m_{b} + 4 l^{2} m_{a} m_{b}} & - \\frac{6 l m_{b}}{9 I_{B_bo} m_{a} + 9 I_{B_bo} m_{b} + 4 l^{2} m_{a} m_{b}} & \\frac{- 9 I_{B_bo} + 8 l^{2} m_{b}}{l \\left(9 I_{B_bo} m_{a} + 9 I_{B_bo} m_{b} + 4 l^{2} m_{a} m_{b}\\right)}\\\\- \\frac{6 l m_{b}}{9 I_{B_bo} m_{a} + 9 I_{B_bo} m_{b} + 4 l^{2} m_{a} m_{b}} & \\frac{9 \\left(m_{a} + m_{b}\\right)}{9 I_{B_bo} m_{a} + 9 I_{B_bo} m_{b} + 4 l^{2} m_{a} m_{b}} & - \\frac{18 m_{a} + 12 m_{b}}{9 I_{B_bo} m_{a} + 9 I_{B_bo} m_{b} + 4 l^{2} m_{a} m_{b}}\\\\\\frac{- 9 I_{B_bo} + 8 l^{2} m_{b}}{l \\left(9 I_{B_bo} m_{a} + 9 I_{B_bo} m_{b} + 4 l^{2} m_{a} m_{b}\\right)} & - \\frac{18 m_{a} + 12 m_{b}}{9 I_{B_bo} m_{a} + 9 I_{B_bo} m_{b} + 4 l^{2} m_{a} m_{b}} & \\frac{9 I_{B_bo} m_{a} + 9 I_{B_bo} m_{b} + 9 I_{B_bo} m_{c} + 4 l^{2} m_{a} m_{b} + 36 l^{2} m_{a} m_{c} + 16 l^{2} m_{b} m_{c}}{l^{2} m_{c} \\left(9 I_{B_bo} m_{a} + 9 I_{B_bo} m_{b} + 4 l^{2} m_{a} m_{b}\\right)}\\end{matrix}\\right]$$"
      ],
      "text/plain": [
       "Matrix([\n",
       "[                                                                                0,                                                                     0,                                                                                                                                                                     0],\n",
       "[                                                                                0,                                                                     0,                                                                                                                                                                     0],\n",
       "[                                                                                0,                                                                     0,                                                                                                                                                                     0],\n",
       "[     (9*I_{B_bo} + 4*l**2*m_b)/(9*I_{B_bo}*m_a + 9*I_{B_bo}*m_b + 4*l**2*m_a*m_b),           -6*l*m_b/(9*I_{B_bo}*m_a + 9*I_{B_bo}*m_b + 4*l**2*m_a*m_b),                                                                                     (-9*I_{B_bo} + 8*l**2*m_b)/(l*(9*I_{B_bo}*m_a + 9*I_{B_bo}*m_b + 4*l**2*m_a*m_b))],\n",
       "[                      -6*l*m_b/(9*I_{B_bo}*m_a + 9*I_{B_bo}*m_b + 4*l**2*m_a*m_b),      9*(m_a + m_b)/(9*I_{B_bo}*m_a + 9*I_{B_bo}*m_b + 4*l**2*m_a*m_b),                                                                                                 -(18*m_a + 12*m_b)/(9*I_{B_bo}*m_a + 9*I_{B_bo}*m_b + 4*l**2*m_a*m_b)],\n",
       "[(-9*I_{B_bo} + 8*l**2*m_b)/(l*(9*I_{B_bo}*m_a + 9*I_{B_bo}*m_b + 4*l**2*m_a*m_b)), -(18*m_a + 12*m_b)/(9*I_{B_bo}*m_a + 9*I_{B_bo}*m_b + 4*l**2*m_a*m_b), (9*I_{B_bo}*m_a + 9*I_{B_bo}*m_b + 9*I_{B_bo}*m_c + 4*l**2*m_a*m_b + 36*l**2*m_a*m_c + 16*l**2*m_b*m_c)/(l**2*m_c*(9*I_{B_bo}*m_a + 9*I_{B_bo}*m_b + 4*l**2*m_a*m_b))]])"
      ]
     },
     "execution_count": 107,
     "metadata": {},
     "output_type": "execute_result"
    }
   ],
   "source": [
    "B = sm.zeros(3, 3).col_join(Minv)\n",
    "B"
   ]
  }
 ],
 "metadata": {
  "anaconda-cloud": {},
  "kernelspec": {
   "display_name": "Python [default]",
   "language": "python",
   "name": "python3"
  },
  "language_info": {
   "codemirror_mode": {
    "name": "ipython",
    "version": 3
   },
   "file_extension": ".py",
   "mimetype": "text/x-python",
   "name": "python",
   "nbconvert_exporter": "python",
   "pygments_lexer": "ipython3",
   "version": "3.5.4"
  }
 },
 "nbformat": 4,
 "nbformat_minor": 2
}
